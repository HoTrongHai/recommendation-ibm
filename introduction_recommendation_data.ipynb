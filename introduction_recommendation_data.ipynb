{
 "cells": [
  {
   "cell_type": "markdown",
   "metadata": {
    "collapsed": true,
    "pycharm": {
     "name": "#%% md\n"
    }
   },
   "source": [
    "### Recommendations with MovieTweetings: Getting to Know The Data\n",
    "\n",
    "Throughout this lesson, you will be working with the [MovieTweetings Data](https://github.com/sidooms/MovieTweetings/tree/master/recsyschallenge2014).  To get started, you can read more about this project and the dataset from the [publication here](http://crowdrec2013.noahlab.com.hk/papers/crowdrec2013_Dooms.pdf).\n",
    "\n",
    "**Note:** There are solutions to each of the notebooks available by hitting the orange jupyter logo in the top left of this notebook.  Additionally, you can watch me work through the solutions on the screencasts that follow each workbook.\n",
    "\n",
    "To get started, read in the libraries and the two datasets you will be using throughout the lesson using the code below.\n"
   ]
  },
  {
   "cell_type": "code",
   "execution_count": 3,
   "outputs": [],
   "source": [
    "import numpy as np\n",
    "import pandas as pd\n",
    "import matplotlib.pyplot as plt\n",
    "\n",
    "import test as t\n",
    "\n",
    "import ratings as ratings\n",
    "\n",
    "%matplotlib inline\n",
    "\n",
    "# Read in the datasets\n",
    "movies = pd.read_csv('./data/original_movies.dat',\n",
    "                     delimiter='::',\n",
    "                     header=None,\n",
    "                     names=['movie_id', 'movie', 'genre'],\n",
    "                     dtype={'movie_id': object}, engine='python')\n",
    "\n",
    "reviews = pd.read_csv('./data/original_ratings.dat',\n",
    "                      delimiter='::',\n",
    "                      header=None,\n",
    "                      names=['user_id', 'movie_id', 'rating', 'timestamp'],\n",
    "                      dtype={'movie_id': object, 'user_id': object, 'timestamp': object},\n",
    "                      engine='python')\n",
    "\n",
    "# Reduce the size reviews dataset\n",
    "reviews = reviews.loc[:100000,:]"
   ],
   "metadata": {
    "collapsed": false,
    "pycharm": {
     "name": "#%%\n"
    }
   }
  },
  {
   "cell_type": "markdown",
   "source": [
    "#### 1. Take a Look At The Data\n",
    "\n",
    "Take a look at the data and use your findings to fill in the dictionary below with the correct responses to show your understanding of the data."
   ],
   "metadata": {
    "collapsed": false,
    "pycharm": {
     "name": "#%% md\n"
    }
   }
  },
  {
   "cell_type": "code",
   "execution_count": 28,
   "outputs": [],
   "source": [
    "# Use this cell to find the following information:\n",
    "# number of movies\n",
    "n_videos = movies.shape[0]\n",
    "# number of ratings\n",
    "n_reviews = reviews.shape[0]\n",
    "# number of different genres\n",
    "\n",
    "def _get_genre(_ds):\n",
    "    _set = set()\n",
    "    for v in _ds:\n",
    "        if isinstance(v, str):\n",
    "            for s in v.split('|'):\n",
    "                _set.add(s)\n",
    "        else:\n",
    "            _set.add(v)\n",
    "\n",
    "    return _set\n",
    "\n",
    "n_genres = len(_get_genre(movies['genre'].values))\n",
    "# number of unique users\n",
    "n_users = len(reviews['user_id'].unique())\n",
    "# number of missing ratings\n",
    "n_missing_reviews = len(reviews['rating'].isnull())\n",
    "# the `average`, `min`, and `max` ratings given\n",
    "r_average, r_min, r_max = reviews['rating'].mean(), reviews['rating'].min(), reviews['rating'].max()\n",
    "\n",
    "\n"
   ],
   "metadata": {
    "collapsed": false,
    "pycharm": {
     "name": "#%%\n"
    }
   }
  },
  {
   "cell_type": "markdown",
   "source": [
    "#### 2. Data Cleaning\n",
    "\n",
    "Next, we need to pull some additional relevant information out of the existing columns.\n",
    "\n",
    "For each of the datasets, there are a couple of cleaning steps we need to take care of:\n",
    "\n",
    "#### Movies\n",
    "* Pull the date from the title and create new column\n",
    "* Dummy the date column with 1's and 0's for each century of a movie (1800's, 1900's, and 2000's)\n",
    "* Dummy column the genre with 1's and 0's for each genre\n",
    "\n",
    "#### Reviews\n",
    "* Create a date out of time stamp\n",
    "\n",
    "You can check your results against the header of my solution by running the cell below with the **show_clean_dataframes** function."
   ],
   "metadata": {
    "collapsed": false,
    "pycharm": {
     "name": "#%% md\n"
    }
   }
  },
  {
   "cell_type": "code",
   "execution_count": 37,
   "outputs": [
    {
     "data": {
      "text/plain": "       movie_id                                              movie  \\\n0       0000008      Edison Kinetoscopic Record of a Sneeze (1894)   \n1       0000010                La sortie des usines Lumière (1895)   \n2       0000012                      The Arrival of a Train (1896)   \n3            25  The Oxford and Cambridge University Boat Race ...   \n4       0000091                         Le manoir du diable (1896)   \n...         ...                                                ...   \n35474  12036052                                    Elephant (2020)   \n35475  12058882           Coachella: 20 Years in the Desert (2020)   \n35476  12078990                 Money Heist: The Phenomenon (2020)   \n35477  12131262                              Out of Shadows (2020)   \n35478  12192654                        Planet of the Humans (2019)   \n\n                                        genre  year  1800s  1900s  2000s  NaN  \\\n0                           Documentary|Short  1894      1      0      0    0   \n1                           Documentary|Short  1895      1      0      0    0   \n2                           Documentary|Short  1896      1      0      0    0   \n3                                         NaN  1895      1      0      0    0   \n4                                Short|Horror  1896      1      0      0    0   \n...                                       ...   ...    ...    ...    ...  ...   \n35474  Documentary|Adventure|Biography|Family  2020      0      0      1    0   \n35475                       Documentary|Music  2020      0      0      1    0   \n35476                             Documentary  2020      0      0      1    0   \n35477                             Documentary  2020      0      0      1    0   \n35478                                     NaN  2019      0      0      1    0   \n\n       Sport  Documentary  ...  Music  Western  Comedy  War  Adventure  News  \\\n0          0            1  ...      0        0       0    0          0     0   \n1          0            1  ...      0        0       0    0          0     0   \n2          0            1  ...      0        0       0    0          0     0   \n3          0            0  ...      0        0       0    0          0     0   \n4          0            0  ...      0        0       0    0          0     0   \n...      ...          ...  ...    ...      ...     ...  ...        ...   ...   \n35474      0            1  ...      0        0       0    0          1     0   \n35475      0            1  ...      1        0       0    0          0     0   \n35476      0            1  ...      0        0       0    0          0     0   \n35477      0            1  ...      0        0       0    0          0     0   \n35478      0            0  ...      0        0       0    0          0     0   \n\n       History  Fantasy  Film-Noir  Crime  \n0            0        0          0      0  \n1            0        0          0      0  \n2            0        0          0      0  \n3            0        0          0      0  \n4            0        0          0      0  \n...        ...      ...        ...    ...  \n35474        0        0          0      0  \n35475        0        0          0      0  \n35476        0        0          0      0  \n35477        0        0          0      0  \n35478        0        0          0      0  \n\n[35479 rows x 36 columns]",
      "text/html": "<div>\n<style scoped>\n    .dataframe tbody tr th:only-of-type {\n        vertical-align: middle;\n    }\n\n    .dataframe tbody tr th {\n        vertical-align: top;\n    }\n\n    .dataframe thead th {\n        text-align: right;\n    }\n</style>\n<table border=\"1\" class=\"dataframe\">\n  <thead>\n    <tr style=\"text-align: right;\">\n      <th></th>\n      <th>movie_id</th>\n      <th>movie</th>\n      <th>genre</th>\n      <th>year</th>\n      <th>1800s</th>\n      <th>1900s</th>\n      <th>2000s</th>\n      <th>NaN</th>\n      <th>Sport</th>\n      <th>Documentary</th>\n      <th>...</th>\n      <th>Music</th>\n      <th>Western</th>\n      <th>Comedy</th>\n      <th>War</th>\n      <th>Adventure</th>\n      <th>News</th>\n      <th>History</th>\n      <th>Fantasy</th>\n      <th>Film-Noir</th>\n      <th>Crime</th>\n    </tr>\n  </thead>\n  <tbody>\n    <tr>\n      <th>0</th>\n      <td>0000008</td>\n      <td>Edison Kinetoscopic Record of a Sneeze (1894)</td>\n      <td>Documentary|Short</td>\n      <td>1894</td>\n      <td>1</td>\n      <td>0</td>\n      <td>0</td>\n      <td>0</td>\n      <td>0</td>\n      <td>1</td>\n      <td>...</td>\n      <td>0</td>\n      <td>0</td>\n      <td>0</td>\n      <td>0</td>\n      <td>0</td>\n      <td>0</td>\n      <td>0</td>\n      <td>0</td>\n      <td>0</td>\n      <td>0</td>\n    </tr>\n    <tr>\n      <th>1</th>\n      <td>0000010</td>\n      <td>La sortie des usines Lumière (1895)</td>\n      <td>Documentary|Short</td>\n      <td>1895</td>\n      <td>1</td>\n      <td>0</td>\n      <td>0</td>\n      <td>0</td>\n      <td>0</td>\n      <td>1</td>\n      <td>...</td>\n      <td>0</td>\n      <td>0</td>\n      <td>0</td>\n      <td>0</td>\n      <td>0</td>\n      <td>0</td>\n      <td>0</td>\n      <td>0</td>\n      <td>0</td>\n      <td>0</td>\n    </tr>\n    <tr>\n      <th>2</th>\n      <td>0000012</td>\n      <td>The Arrival of a Train (1896)</td>\n      <td>Documentary|Short</td>\n      <td>1896</td>\n      <td>1</td>\n      <td>0</td>\n      <td>0</td>\n      <td>0</td>\n      <td>0</td>\n      <td>1</td>\n      <td>...</td>\n      <td>0</td>\n      <td>0</td>\n      <td>0</td>\n      <td>0</td>\n      <td>0</td>\n      <td>0</td>\n      <td>0</td>\n      <td>0</td>\n      <td>0</td>\n      <td>0</td>\n    </tr>\n    <tr>\n      <th>3</th>\n      <td>25</td>\n      <td>The Oxford and Cambridge University Boat Race ...</td>\n      <td>NaN</td>\n      <td>1895</td>\n      <td>1</td>\n      <td>0</td>\n      <td>0</td>\n      <td>0</td>\n      <td>0</td>\n      <td>0</td>\n      <td>...</td>\n      <td>0</td>\n      <td>0</td>\n      <td>0</td>\n      <td>0</td>\n      <td>0</td>\n      <td>0</td>\n      <td>0</td>\n      <td>0</td>\n      <td>0</td>\n      <td>0</td>\n    </tr>\n    <tr>\n      <th>4</th>\n      <td>0000091</td>\n      <td>Le manoir du diable (1896)</td>\n      <td>Short|Horror</td>\n      <td>1896</td>\n      <td>1</td>\n      <td>0</td>\n      <td>0</td>\n      <td>0</td>\n      <td>0</td>\n      <td>0</td>\n      <td>...</td>\n      <td>0</td>\n      <td>0</td>\n      <td>0</td>\n      <td>0</td>\n      <td>0</td>\n      <td>0</td>\n      <td>0</td>\n      <td>0</td>\n      <td>0</td>\n      <td>0</td>\n    </tr>\n    <tr>\n      <th>...</th>\n      <td>...</td>\n      <td>...</td>\n      <td>...</td>\n      <td>...</td>\n      <td>...</td>\n      <td>...</td>\n      <td>...</td>\n      <td>...</td>\n      <td>...</td>\n      <td>...</td>\n      <td>...</td>\n      <td>...</td>\n      <td>...</td>\n      <td>...</td>\n      <td>...</td>\n      <td>...</td>\n      <td>...</td>\n      <td>...</td>\n      <td>...</td>\n      <td>...</td>\n      <td>...</td>\n    </tr>\n    <tr>\n      <th>35474</th>\n      <td>12036052</td>\n      <td>Elephant (2020)</td>\n      <td>Documentary|Adventure|Biography|Family</td>\n      <td>2020</td>\n      <td>0</td>\n      <td>0</td>\n      <td>1</td>\n      <td>0</td>\n      <td>0</td>\n      <td>1</td>\n      <td>...</td>\n      <td>0</td>\n      <td>0</td>\n      <td>0</td>\n      <td>0</td>\n      <td>1</td>\n      <td>0</td>\n      <td>0</td>\n      <td>0</td>\n      <td>0</td>\n      <td>0</td>\n    </tr>\n    <tr>\n      <th>35475</th>\n      <td>12058882</td>\n      <td>Coachella: 20 Years in the Desert (2020)</td>\n      <td>Documentary|Music</td>\n      <td>2020</td>\n      <td>0</td>\n      <td>0</td>\n      <td>1</td>\n      <td>0</td>\n      <td>0</td>\n      <td>1</td>\n      <td>...</td>\n      <td>1</td>\n      <td>0</td>\n      <td>0</td>\n      <td>0</td>\n      <td>0</td>\n      <td>0</td>\n      <td>0</td>\n      <td>0</td>\n      <td>0</td>\n      <td>0</td>\n    </tr>\n    <tr>\n      <th>35476</th>\n      <td>12078990</td>\n      <td>Money Heist: The Phenomenon (2020)</td>\n      <td>Documentary</td>\n      <td>2020</td>\n      <td>0</td>\n      <td>0</td>\n      <td>1</td>\n      <td>0</td>\n      <td>0</td>\n      <td>1</td>\n      <td>...</td>\n      <td>0</td>\n      <td>0</td>\n      <td>0</td>\n      <td>0</td>\n      <td>0</td>\n      <td>0</td>\n      <td>0</td>\n      <td>0</td>\n      <td>0</td>\n      <td>0</td>\n    </tr>\n    <tr>\n      <th>35477</th>\n      <td>12131262</td>\n      <td>Out of Shadows (2020)</td>\n      <td>Documentary</td>\n      <td>2020</td>\n      <td>0</td>\n      <td>0</td>\n      <td>1</td>\n      <td>0</td>\n      <td>0</td>\n      <td>1</td>\n      <td>...</td>\n      <td>0</td>\n      <td>0</td>\n      <td>0</td>\n      <td>0</td>\n      <td>0</td>\n      <td>0</td>\n      <td>0</td>\n      <td>0</td>\n      <td>0</td>\n      <td>0</td>\n    </tr>\n    <tr>\n      <th>35478</th>\n      <td>12192654</td>\n      <td>Planet of the Humans (2019)</td>\n      <td>NaN</td>\n      <td>2019</td>\n      <td>0</td>\n      <td>0</td>\n      <td>1</td>\n      <td>0</td>\n      <td>0</td>\n      <td>0</td>\n      <td>...</td>\n      <td>0</td>\n      <td>0</td>\n      <td>0</td>\n      <td>0</td>\n      <td>0</td>\n      <td>0</td>\n      <td>0</td>\n      <td>0</td>\n      <td>0</td>\n      <td>0</td>\n    </tr>\n  </tbody>\n</table>\n<p>35479 rows × 36 columns</p>\n</div>"
     },
     "execution_count": 37,
     "metadata": {},
     "output_type": "execute_result"
    }
   ],
   "source": [
    "import re\n",
    "\n",
    "def _extract_date(df):\n",
    "\n",
    "    def _extract_from_regex(movie):\n",
    "        match = re.match(r'.*([1-3][0-9]{3})', movie)\n",
    "        if match is not None:\n",
    "            # Then it found a match!\n",
    "            return match.group(1)\n",
    "\n",
    "        return np.nan\n",
    "\n",
    "    return df['movie'].apply(_extract_from_regex).astype(int)\n",
    "\n",
    "def _bin_year(df):\n",
    "    bins = [('1800s', lambda v: 1 if 1800 <= v < 1900 else 0),\n",
    "            ('1900s', lambda v: 1 if 1900 <= v < 2000 else 0),\n",
    "            ('2000s', lambda v: 1 if 2000 <= v else 0),\n",
    "\n",
    "            ]\n",
    "\n",
    "    for bin_name, bin_func in bins:\n",
    "        df[bin_name] = df['year'].apply(bin_func)\n",
    "\n",
    "    return df\n",
    "\n",
    "def _bin_genres(_df):\n",
    "    def _get_genre(_ds):\n",
    "        _set = set()\n",
    "        for v in _ds:\n",
    "            if isinstance(v, str):\n",
    "                for s in v.split('|'):\n",
    "                    _set.add(s)\n",
    "            else:\n",
    "                _set.add(v)\n",
    "\n",
    "        return _set\n",
    "\n",
    "    for v in _get_genre(_df['genre']):\n",
    "        _df[v] = _df['genre'].apply(lambda c: 1 if isinstance(c, str) and v in c.split('|') else 0)\n",
    "\n",
    "\n",
    "\n",
    "movies['year'] = _extract_date(movies)\n",
    "\n",
    "_bin_year(movies)\n",
    "_bin_genres(movies)\n",
    "\n",
    "movies"
   ],
   "metadata": {
    "collapsed": false,
    "pycharm": {
     "name": "#%%\n"
    }
   }
  },
  {
   "cell_type": "code",
   "execution_count": 30,
   "outputs": [
    {
     "data": {
      "text/plain": "       movie_id                                              movie  \\\n0       0000008      Edison Kinetoscopic Record of a Sneeze (1894)   \n1       0000010                La sortie des usines Lumière (1895)   \n2       0000012                      The Arrival of a Train (1896)   \n3            25  The Oxford and Cambridge University Boat Race ...   \n4       0000091                         Le manoir du diable (1896)   \n...         ...                                                ...   \n35474  12036052                                    Elephant (2020)   \n35475  12058882           Coachella: 20 Years in the Desert (2020)   \n35476  12078990                 Money Heist: The Phenomenon (2020)   \n35477  12131262                              Out of Shadows (2020)   \n35478  12192654                        Planet of the Humans (2019)   \n\n                                        genre  \n0                           Documentary|Short  \n1                           Documentary|Short  \n2                           Documentary|Short  \n3                                         NaN  \n4                                Short|Horror  \n...                                       ...  \n35474  Documentary|Adventure|Biography|Family  \n35475                       Documentary|Music  \n35476                             Documentary  \n35477                             Documentary  \n35478                                     NaN  \n\n[35479 rows x 3 columns]",
      "text/html": "<div>\n<style scoped>\n    .dataframe tbody tr th:only-of-type {\n        vertical-align: middle;\n    }\n\n    .dataframe tbody tr th {\n        vertical-align: top;\n    }\n\n    .dataframe thead th {\n        text-align: right;\n    }\n</style>\n<table border=\"1\" class=\"dataframe\">\n  <thead>\n    <tr style=\"text-align: right;\">\n      <th></th>\n      <th>movie_id</th>\n      <th>movie</th>\n      <th>genre</th>\n    </tr>\n  </thead>\n  <tbody>\n    <tr>\n      <th>0</th>\n      <td>0000008</td>\n      <td>Edison Kinetoscopic Record of a Sneeze (1894)</td>\n      <td>Documentary|Short</td>\n    </tr>\n    <tr>\n      <th>1</th>\n      <td>0000010</td>\n      <td>La sortie des usines Lumière (1895)</td>\n      <td>Documentary|Short</td>\n    </tr>\n    <tr>\n      <th>2</th>\n      <td>0000012</td>\n      <td>The Arrival of a Train (1896)</td>\n      <td>Documentary|Short</td>\n    </tr>\n    <tr>\n      <th>3</th>\n      <td>25</td>\n      <td>The Oxford and Cambridge University Boat Race ...</td>\n      <td>NaN</td>\n    </tr>\n    <tr>\n      <th>4</th>\n      <td>0000091</td>\n      <td>Le manoir du diable (1896)</td>\n      <td>Short|Horror</td>\n    </tr>\n    <tr>\n      <th>...</th>\n      <td>...</td>\n      <td>...</td>\n      <td>...</td>\n    </tr>\n    <tr>\n      <th>35474</th>\n      <td>12036052</td>\n      <td>Elephant (2020)</td>\n      <td>Documentary|Adventure|Biography|Family</td>\n    </tr>\n    <tr>\n      <th>35475</th>\n      <td>12058882</td>\n      <td>Coachella: 20 Years in the Desert (2020)</td>\n      <td>Documentary|Music</td>\n    </tr>\n    <tr>\n      <th>35476</th>\n      <td>12078990</td>\n      <td>Money Heist: The Phenomenon (2020)</td>\n      <td>Documentary</td>\n    </tr>\n    <tr>\n      <th>35477</th>\n      <td>12131262</td>\n      <td>Out of Shadows (2020)</td>\n      <td>Documentary</td>\n    </tr>\n    <tr>\n      <th>35478</th>\n      <td>12192654</td>\n      <td>Planet of the Humans (2019)</td>\n      <td>NaN</td>\n    </tr>\n  </tbody>\n</table>\n<p>35479 rows × 3 columns</p>\n</div>"
     },
     "execution_count": 30,
     "metadata": {},
     "output_type": "execute_result"
    }
   ],
   "source": [],
   "metadata": {
    "collapsed": false,
    "pycharm": {
     "name": "#%%\n"
    }
   }
  },
  {
   "cell_type": "code",
   "execution_count": null,
   "outputs": [],
   "source": [],
   "metadata": {
    "collapsed": false,
    "pycharm": {
     "name": "#%%\n"
    }
   }
  }
 ],
 "metadata": {
  "kernelspec": {
   "display_name": "Python 3",
   "language": "python",
   "name": "python3"
  },
  "language_info": {
   "codemirror_mode": {
    "name": "ipython",
    "version": 2
   },
   "file_extension": ".py",
   "mimetype": "text/x-python",
   "name": "python",
   "nbconvert_exporter": "python",
   "pygments_lexer": "ipython2",
   "version": "2.7.6"
  }
 },
 "nbformat": 4,
 "nbformat_minor": 0
}