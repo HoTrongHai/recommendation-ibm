{
 "cells": [
  {
   "cell_type": "markdown",
   "metadata": {
    "collapsed": true,
    "pycharm": {
     "name": "#%% md\n"
    }
   },
   "source": [
    "# Recommendations with IBM\n",
    "\n",
    "In this notebook, you will be putting your recommendation skills to use on real data from the IBM Watson Studio platform.\n",
    "\n",
    "\n",
    "You may either submit your notebook through the workspace here, or you may work from your local machine and submit through the next page.  Either way assure that your code passes the project [RUBRIC](https://review.udacity.com/#!/rubrics/3325/view).  **Please save regularly.**\n",
    "\n",
    "By following the table of contents, you will build out a number of different methods for making recommendations that can be used for different situations.\n",
    "\n",
    "\n",
    "## Table of Contents\n",
    "\n",
    "I. [Exploratory Data Analysis](#Exploratory-Data-Analysis)<br>\n",
    "II. [Rank Based Recommendations](#Rank)<br>\n",
    "III. [User-User Based Collaborative Filtering](#User-User)<br>\n",
    "IV. [Content Based Recommendations (EXTRA - NOT REQUIRED)](#Content-Recs)<br>\n",
    "V. [Matrix Factorization](#Matrix-Fact)<br>\n",
    "VI. [Extras & Concluding](#conclusions)\n",
    "\n",
    "At the end of the notebook, you will find directions for how to submit your work.  Let's get started by importing the necessary libraries and reading in the data.\n"
   ]
  },
  {
   "cell_type": "code",
   "execution_count": null,
   "outputs": [],
   "source": [
    "# from unittest.mock import inplace\n",
    "\n",
    "import pandas as pd\n",
    "import numpy as np\n",
    "import matplotlib.pyplot as plt\n",
    "from traitlets import This\n",
    "\n",
    "import project_tests as t\n",
    "import pickle\n",
    "\n",
    "%matplotlib inline\n",
    "\n",
    "df = pd.read_csv('data/user-item-interactions.csv')\n",
    "df_content = pd.read_csv('data/articles_community.csv')\n",
    "del df['Unnamed: 0']\n",
    "del df_content['Unnamed: 0']\n",
    "\n",
    "# Show df to get an idea of the data\n",
    "print(df)"
   ],
   "metadata": {
    "collapsed": false,
    "pycharm": {
     "name": "#%%\n"
    }
   }
  },
  {
   "cell_type": "markdown",
   "source": [
    "### <a class=\"anchor\" id=\"Exploratory-Data-Analysis\">Part I : Exploratory Data Analysis</a>\n",
    "\n",
    "Use the dictionary and cells below to provide some insight into the descriptive statistics of the data.\n",
    "\n",
    "`1.` What is the distribution of how many articles a user interacts with in the dataset?  Provide a visual and descriptive statistics to assist with giving a look at the number of times each user interacts with an article.\n"
   ],
   "metadata": {
    "collapsed": false,
    "pycharm": {
     "name": "#%% md\n"
    }
   }
  },
  {
   "cell_type": "code",
   "execution_count": null,
   "outputs": [],
   "source": [],
   "metadata": {
    "collapsed": false,
    "pycharm": {
     "name": "#%%\n"
    }
   }
  },
  {
   "cell_type": "code",
   "execution_count": null,
   "outputs": [],
   "source": [
    "def convert_datatype():\n",
    "    \"\"\"\n",
    "    We want to convert some data type of columns for manipulating\n",
    "    :return: None\n",
    "    \"\"\"\n",
    "    df['article_id'] = df['article_id'].astype(str)\n",
    "\n",
    "\n",
    "convert_datatype()\n",
    "\n",
    "\n",
    "\n",
    "# 50% of individuals interact with ____ number of articles or fewer.\n",
    "median_val = df.groupby(['email'])['article_id'].count().median()\n",
    "\n",
    "# The maximum number of user-article interactions by any 1 user is\n",
    "max_views_by_user = df.groupby(['email'])['article_id'].count().max()\n",
    "\n",
    "\n",
    "# Find and explore duplicate articles\n",
    "dup_indices = df_content[df_content.duplicated(subset = ['article_id'])].index\n",
    "df_content.drop(dup_indices, axis=0, inplace=True)"
   ],
   "metadata": {
    "collapsed": false,
    "pycharm": {
     "name": "#%%\n"
    }
   }
  },
  {
   "cell_type": "code",
   "execution_count": null,
   "outputs": [],
   "source": [
    "# The number of unique articles that have at least one interaction\n",
    "unique_articles = len(df['article_id'].unique())\n",
    "\n",
    "# The number of unique articles on the IBM platform\n",
    "total_articles = len(df_content['article_id'].unique())\n",
    "\n",
    "# The number of unique users\n",
    "unique_users = len(df[~df['email'].isnull()]['email'].unique())\n",
    "\n",
    "# The number of user-article interactions\n",
    "user_article_interactions = df.shape[0]\n",
    "\n"
   ],
   "metadata": {
    "collapsed": false,
    "pycharm": {
     "name": "#%%\n"
    }
   }
  },
  {
   "cell_type": "markdown",
   "source": [
    "`4.` Use the cells below to find the most viewed **article_id**, as well as how often it was viewed.  After talking to the company leaders, the `email_mapper` function was deemed a reasonable way to map users to ids.  There were a small number of null values, and it was found that all of these null values likely belonged to a single user (which is how they are stored using the function below).\n"
   ],
   "metadata": {
    "collapsed": false,
    "pycharm": {
     "name": "#%% md\n"
    }
   }
  },
  {
   "cell_type": "code",
   "execution_count": null,
   "outputs": [],
   "source": [
    "# The most viewed article in the dataset was viewed how many times?\n",
    "article_counts = df.groupby(['article_id'])['email'].count()\n",
    "\n",
    "max_views = article_counts.max()\n",
    "\n",
    "# The most viewed article in the dataset as a string with one value following the decimal\n",
    "most_viewed_article_id = article_counts[article_counts == max_views].index[0]"
   ],
   "metadata": {
    "collapsed": false,
    "pycharm": {
     "name": "#%%\n"
    }
   }
  },
  {
   "cell_type": "code",
   "execution_count": null,
   "outputs": [],
   "source": [
    "## No need to change the code here - this will be helpful for later parts of the notebook\n",
    "# Run this cell to map the user email to a user_id column and remove the email column\n",
    "\n",
    "def email_mapper():\n",
    "    coded_dict = dict()\n",
    "    cter = 1\n",
    "    email_encoded = []\n",
    "\n",
    "    for val in df['email']:\n",
    "        if val not in coded_dict:\n",
    "            coded_dict[val] = cter\n",
    "            cter+=1\n",
    "\n",
    "        email_encoded.append(coded_dict[val])\n",
    "    return email_encoded\n",
    "\n",
    "email_encoded = email_mapper()\n",
    "del df['email']\n",
    "df['user_id'] = email_encoded\n",
    "\n",
    "# show header\n",
    "df.head()"
   ],
   "metadata": {
    "collapsed": false,
    "pycharm": {
     "name": "#%%\n"
    }
   }
  },
  {
   "cell_type": "code",
   "execution_count": null,
   "outputs": [],
   "source": [
    "## If you stored all your results in the variable names above,\n",
    "## you shouldn't need to change anything in this cell\n",
    "\n",
    "sol_1_dict = {\n",
    "    '`50% of individuals have _____ or fewer interactions.`': median_val,\n",
    "    '`The total number of user-article interactions in the dataset is ______.`': user_article_interactions,\n",
    "    '`The maximum number of user-article interactions by any 1 user is ______.`': max_views_by_user,\n",
    "    '`The most viewed article in the dataset was viewed _____ times.`': max_views,\n",
    "    '`The article_id of the most viewed article is ______.`': most_viewed_article_id,\n",
    "    '`The number of unique articles that have at least 1 rating ______.`': unique_articles,\n",
    "    '`The number of unique users in the dataset is ______`': unique_users,\n",
    "    '`The number of unique articles on the IBM platform`': total_articles\n",
    "}\n",
    "\n",
    "# Test your dictionary against the solution\n",
    "t.sol_1_test(sol_1_dict)"
   ],
   "metadata": {
    "collapsed": false,
    "pycharm": {
     "name": "#%%\n"
    }
   }
  },
  {
   "cell_type": "markdown",
   "source": [
    "### <a class=\"anchor\" id=\"Rank\">Part II: Rank-Based Recommendations</a>\n",
    "\n",
    "Unlike in the earlier lessons, we don't actually have ratings for whether a user liked an article or not.  We only know that a user has interacted with an article.  In these cases, the popularity of an article can really only be based on how often an article was interacted with.\n",
    "\n",
    "`1.` Fill in the function below to return the **n** top articles ordered with most interactions as the top. Test your function using the tests below.\n"
   ],
   "metadata": {
    "collapsed": false,
    "pycharm": {
     "name": "#%% md\n"
    }
   }
  },
  {
   "cell_type": "code",
   "execution_count": null,
   "outputs": [],
   "source": [
    "def get_top_articles(n, df=df):\n",
    "    '''\n",
    "    INPUT:\n",
    "    n - (int) the number of top articles to return\n",
    "    df - (pandas dataframe) df as defined at the top of the notebook\n",
    "\n",
    "    OUTPUT:\n",
    "    top_articles - (list) A list of the top 'n' article titles\n",
    "\n",
    "    '''\n",
    "    # Your code here\n",
    "\n",
    "    top_article_ids = get_top_article_ids(n, df)\n",
    "    top_articles = df[df['article_id'].isin(top_article_ids)]['title'].unique()\n",
    "    return top_articles # Return the top article titles from df (not df_content)\n",
    "\n",
    "def get_top_article_ids(n, df=df):\n",
    "    '''\n",
    "    INPUT:\n",
    "    n - (int) the number of top articles to return\n",
    "    df - (pandas dataframe) df as defined at the top of the notebook\n",
    "\n",
    "    OUTPUT:\n",
    "    top_articles - (list) A list of the top 'n' article titles\n",
    "\n",
    "    '''\n",
    "    # Your code here\n",
    "\n",
    "    top_articles = df.groupby(['article_id'])['user_id'].count().sort_values(ascending=False).nlargest(n).index\n",
    "    # top_articles = df[df['article_id'].isin(_article_counts)]['title'].unique()\n",
    "    return top_articles # Return the top article ids"
   ],
   "metadata": {
    "collapsed": false,
    "pycharm": {
     "name": "#%%\n"
    }
   }
  },
  {
   "cell_type": "code",
   "execution_count": null,
   "outputs": [],
   "source": [
    "print(get_top_articles(10))\n",
    "print(get_top_article_ids(10))"
   ],
   "metadata": {
    "collapsed": false,
    "pycharm": {
     "name": "#%%\n"
    }
   }
  },
  {
   "cell_type": "code",
   "execution_count": null,
   "outputs": [],
   "source": [
    "# Test your function by returning the top 5, 10, and 20 articles\n",
    "top_5 = get_top_articles(5)\n",
    "top_10 = get_top_articles(10)\n",
    "top_20 = get_top_articles(20)\n",
    "\n",
    "# Test each of your three lists from above\n",
    "t.sol_2_test(get_top_articles)"
   ],
   "metadata": {
    "collapsed": false,
    "pycharm": {
     "name": "#%%\n"
    }
   }
  },
  {
   "cell_type": "markdown",
   "source": [
    "### <a class=\"anchor\" id=\"User-User\">Part III: User-User Based Collaborative Filtering</a>\n",
    "\n",
    "\n",
    "`1.` Use the function below to reformat the **df** dataframe to be shaped with users as the rows and articles as the columns.\n",
    "\n",
    "* Each **user** should only appear in each **row** once.\n",
    "\n",
    "\n",
    "* Each **article** should only show up in one **column**.\n",
    "\n",
    "\n",
    "* **If a user has interacted with an article, then place a 1 where the user-row meets for that article-column**.  It does not matter how many times a user has interacted with the article, all entries where a user has interacted with an article should be a 1.\n",
    "\n",
    "\n",
    "* **If a user has not interacted with an item, then place a zero where the user-row meets for that article-column**.\n",
    "\n",
    "Use the tests to make sure the basic structure of your matrix matches what is expected by the solution.\n"
   ],
   "metadata": {
    "collapsed": false,
    "pycharm": {
     "name": "#%% md\n"
    }
   }
  },
  {
   "cell_type": "code",
   "execution_count": null,
   "outputs": [],
   "source": [
    "# create the user-article matrix with 1's and 0's\n",
    "\n",
    "def create_user_item_matrix(df):\n",
    "    '''\n",
    "    INPUT:\n",
    "    df - pandas dataframe with article_id, title, user_id columns\n",
    "\n",
    "    OUTPUT:\n",
    "    user_item - user item matrix\n",
    "\n",
    "    Description:\n",
    "    Return a matrix with user ids as rows and article ids on the columns with 1 values where a user interacted with\n",
    "    an article and a 0 otherwise\n",
    "    '''\n",
    "    # Fill in the function here\n",
    "    user_item = df.groupby(['user_id', 'article_id'])['title'].count().unstack()\n",
    "    user_item.fillna(0, inplace=True)\n",
    "    # np.where(user_item >= 1, 1, 0)\n",
    "    for col in user_item.columns:\n",
    "        user_item[col] = user_item[col].apply(lambda c: 1 if c > 1 else c)\n",
    "\n",
    "    return user_item # return the user_item matrix\n",
    "\n",
    "user_item = create_user_item_matrix(df)"
   ],
   "metadata": {
    "collapsed": false,
    "pycharm": {
     "name": "#%%\n"
    }
   }
  },
  {
   "cell_type": "code",
   "execution_count": null,
   "outputs": [],
   "source": [
    "## Tests: You should just need to run this cell.  Don't change the code.\n",
    "assert user_item.shape[0] == 5149, \"Oops!  The number of users in the user-article matrix doesn't look right.\"\n",
    "assert user_item.shape[1] == 714, \"Oops!  The number of articles in the user-article matrix doesn't look right.\"\n",
    "assert user_item.sum(axis=1)[1] == 36, \"Oops!  The number of articles seen by user 1 doesn't look right.\"\n",
    "print(\"You have passed our quick tests!  Please proceed!\")"
   ],
   "metadata": {
    "collapsed": false,
    "pycharm": {
     "name": "#%%\n"
    }
   }
  },
  {
   "cell_type": "markdown",
   "source": [
    "`2.` Complete the function below which should take a user_id and provide an ordered list of the most similar users to that user (from most similar to least similar).  The returned result should not contain the provided user_id, as we know that each user is similar to him/herself. Because the results for each user here are binary, it (perhaps) makes sense to compute similarity as the dot product of two users.\n",
    "\n",
    "Use the tests to test your function.\n"
   ],
   "metadata": {
    "collapsed": false,
    "pycharm": {
     "name": "#%% md\n"
    }
   }
  },
  {
   "cell_type": "code",
   "execution_count": null,
   "outputs": [],
   "source": [
    "def find_similar_users(user_id, user_item=user_item):\n",
    "    '''\n",
    "    INPUT:\n",
    "    user_id - (int) a user_id\n",
    "    user_item - (pandas dataframe) matrix of users by articles:\n",
    "                1's when a user has interacted with an article, 0 otherwise\n",
    "\n",
    "    OUTPUT:\n",
    "    similar_users - (list) an ordered list where the closest users (largest dot product users)\n",
    "                    are listed first\n",
    "\n",
    "    Description:\n",
    "    Computes the similarity of every pair of users based on the dot product\n",
    "    Returns an ordered\n",
    "\n",
    "    '''\n",
    "    # compute similarity of each user to the provided user\n",
    "    sim_dict ={other: np.dot(user_item.loc[user_id], user_item.loc[other]) for other in user_item.index}\n",
    "\n",
    "    # sort by similarity\n",
    "    sim_dict = dict(sorted(sim_dict.items(), key=lambda x: x[1], reverse=True))\n",
    "\n",
    "    # create list of just the ids\n",
    "    most_similar_users = list(sim_dict.keys())\n",
    "\n",
    "    # remove the own user's id\n",
    "    most_similar_users.remove(user_id)\n",
    "\n",
    "    return most_similar_users # return a list of the users in order from most to least similar"
   ],
   "metadata": {
    "collapsed": false,
    "pycharm": {
     "name": "#%%\n"
    }
   }
  },
  {
   "cell_type": "code",
   "execution_count": null,
   "outputs": [],
   "source": [
    "# Do a spot check of your function\n",
    "print(\"The 10 most similar users to user 1 are: {}\".format(find_similar_users(1)[:10]))\n",
    "print(\"The 5 most similar users to user 3933 are: {}\".format(find_similar_users(3933)[:5]))\n",
    "print(\"The 3 most similar users to user 46 are: {}\".format(find_similar_users(46)[:3]))\n"
   ],
   "metadata": {
    "collapsed": false,
    "pycharm": {
     "name": "#%%\n"
    }
   }
  },
  {
   "cell_type": "markdown",
   "source": [
    "`3.` Now that you have a function that provides the most similar users to each user, you will want to use these users to find articles you can recommend.  Complete the functions below to return the articles you would recommend to each user.\n"
   ],
   "metadata": {
    "collapsed": false,
    "pycharm": {
     "name": "#%% md\n"
    }
   }
  },
  {
   "cell_type": "code",
   "execution_count": null,
   "outputs": [],
   "source": [],
   "metadata": {
    "collapsed": false,
    "pycharm": {
     "name": "#%%\n"
    }
   }
  },
  {
   "cell_type": "code",
   "execution_count": null,
   "outputs": [],
   "source": [
    "def get_article_names(article_ids, df=df):\n",
    "    '''\n",
    "    INPUT:\n",
    "    article_ids - (list) a list of article ids\n",
    "    df - (pandas dataframe) df as defined at the top of the notebook\n",
    "\n",
    "    OUTPUT:\n",
    "    article_names - (list) a list of article names associated with the list of article ids\n",
    "                    (this is identified by the title column)\n",
    "    '''\n",
    "    # Your code here\n",
    "\n",
    "    article_names = df[df['article_id'].isin(article_ids)]['title'].unique()\n",
    "\n",
    "    return article_names # Return the article names associated with list of article ids\n",
    "\n",
    "\n",
    "def get_user_articles(user_id, user_item=user_item):\n",
    "    '''\n",
    "    INPUT:\n",
    "    user_id - (int) a user id\n",
    "    user_item - (pandas dataframe) matrix of users by articles:\n",
    "                1's when a user has interacted with an article, 0 otherwise\n",
    "\n",
    "    OUTPUT:\n",
    "    article_ids - (list) a list of the article ids seen by the user\n",
    "    article_names - (list) a list of article names associated with the list of article ids\n",
    "                    (this is identified by the doc_full_name column in df_content)\n",
    "\n",
    "    Description:\n",
    "    Provides a list of the article_ids and article titles that have been seen by a user\n",
    "    '''\n",
    "    # Your code here\n",
    "    article_ids = list(user_item.loc[user_id][user_item.loc[user_id] > 0].index)\n",
    "\n",
    "    article_names = get_article_names(article_ids, df=df)\n",
    "\n",
    "\n",
    "    return article_ids, article_names # return the ids and names\n",
    "\n",
    "\n",
    "def user_user_recs(user_id, m=10):\n",
    "    '''\n",
    "    INPUT:\n",
    "    user_id - (int) a user id\n",
    "    m - (int) the number of recommendations you want for the user\n",
    "\n",
    "    OUTPUT:\n",
    "    recs - (list) a list of recommendations for the user\n",
    "\n",
    "    Description:\n",
    "    Loops through the users based on closeness to the input user_id\n",
    "    For each user - finds articles the user hasn't seen before and provides them as recs\n",
    "    Does this until m recommendations are found\n",
    "\n",
    "    Notes:\n",
    "    Users who are the same closeness are chosen arbitrarily as the 'next' user\n",
    "\n",
    "    For the user where the number of recommended articles starts below m\n",
    "    and ends exceeding m, the last items are chosen arbitrarily\n",
    "\n",
    "    '''\n",
    "    # Your code here\n",
    "\n",
    "    count_recs = 0\n",
    "    recs = []\n",
    "    most_similar_users = find_similar_users(user_id, user_item=user_item)\n",
    "\n",
    "    for sim_user in most_similar_users:\n",
    "\n",
    "        sim_article_ids, sim_article_names = get_user_articles(sim_user, user_item=user_item)\n",
    "        for _art_id, _art_name in zip(sim_article_ids, sim_article_names):\n",
    "            if user_item.loc[user_id, _art_id] == 0.0:\n",
    "                count_recs += 1\n",
    "                recs.append(_art_id)\n",
    "\n",
    "                if count_recs >= m:\n",
    "                    return recs\n",
    "\n",
    "\n",
    "    return recs # return your recommendations for this user_id"
   ],
   "metadata": {
    "collapsed": false,
    "pycharm": {
     "name": "#%%\n"
    }
   }
  },
  {
   "cell_type": "code",
   "execution_count": null,
   "outputs": [],
   "source": [
    "# Check Results\n",
    "get_article_names(user_user_recs(1, 10)) # Return 10 recommendations for user 1\n"
   ],
   "metadata": {
    "collapsed": false,
    "pycharm": {
     "name": "#%%\n"
    }
   }
  },
  {
   "cell_type": "code",
   "execution_count": null,
   "outputs": [],
   "source": [
    "# Test your functions here - No need to change this code - just run this cell\n",
    "assert set(get_article_names(['1024.0', '1176.0', '1305.0', '1314.0', '1422.0', '1427.0'])) == set(['using deep learning to reconstruct high-resolution audio', 'build a python app on the streaming analytics service', 'gosales transactions for naive bayes model', 'healthcare python streaming application demo', 'use r dataframes & ibm watson natural language understanding', 'use xgboost, scikit-learn & ibm watson machine learning apis']), \"Oops! Your the get_article_names function doesn't work quite how we expect.\"\n",
    "assert set(get_article_names(['1320.0', '232.0', '844.0'])) == set(['housing (2015): united states demographic measures','self-service data preparation with ibm data refinery','use the cloudant-spark connector in python notebook']), \"Oops! Your the get_article_names function doesn't work quite how we expect.\"\n",
    "assert set(get_user_articles(20)[0]) == set(['1320.0', '232.0', '844.0'])\n",
    "assert set(get_user_articles(20)[1]) == set(['housing (2015): united states demographic measures', 'self-service data preparation with ibm data refinery','use the cloudant-spark connector in python notebook'])\n",
    "assert set(get_user_articles(2)[0]) == set(['1024.0', '1176.0', '1305.0', '1314.0', '1422.0', '1427.0'])\n",
    "assert set(get_user_articles(2)[1]) == set(['using deep learning to reconstruct high-resolution audio', 'build a python app on the streaming analytics service', 'gosales transactions for naive bayes model', 'healthcare python streaming application demo', 'use r dataframes & ibm watson natural language understanding', 'use xgboost, scikit-learn & ibm watson machine learning apis'])\n",
    "print(\"If this is all you see, you passed all of our tests!  Nice job!\")\n"
   ],
   "metadata": {
    "collapsed": false,
    "pycharm": {
     "name": "#%%\n"
    }
   }
  },
  {
   "cell_type": "markdown",
   "source": [
    "`4.` Now we are going to improve the consistency of the **user_user_recs** function from above.\n",
    "\n",
    "* Instead of arbitrarily choosing when we obtain users who are all the same closeness to a given user - choose the users that have the most total article interactions before choosing those with fewer article interactions.\n",
    "\n",
    "\n",
    "* Instead of arbitrarily choosing articles from the user where the number of recommended articles starts below m and ends exceeding m, choose articles with the articles with the most total interactions before choosing those with fewer total interactions. This ranking should be  what would be obtained from the **top_articles** function you wrote earlier.\n"
   ],
   "metadata": {
    "collapsed": false,
    "pycharm": {
     "name": "#%% md\n"
    }
   }
  },
  {
   "cell_type": "code",
   "execution_count": null,
   "outputs": [],
   "source": [
    "nei_ids = list(user_item.index)\n",
    "nei_sims = [np.dot(user_item.loc[1], user_item.loc[nei_id]) for nei_id in nei_ids]\n",
    "nei_views = [np.sum(user_item.loc[nei_id]) for nei_id in nei_ids]\n",
    "\n",
    "neighbors_df = pd.DataFrame.from_dict({\n",
    "    'nei_id': nei_ids,\n",
    "    'nei_sim': nei_sims,\n",
    "    'nei_view': nei_views\n",
    "\n",
    "})\n",
    "\n",
    "neighbors_df.sort_values(by=['nei_sim', 'nei_view'], ascending=[False, False], inplace=True)\n",
    "\n",
    "neighbors_df.drop(neighbors_df[neighbors_df['nei_id'] == 1].index, axis=0, inplace=True)"
   ],
   "metadata": {
    "collapsed": false,
    "pycharm": {
     "name": "#%%\n"
    }
   }
  },
  {
   "cell_type": "code",
   "execution_count": null,
   "outputs": [],
   "source": [
    "def get_top_sorted_users(user_id, df=df, user_item=user_item):\n",
    "    '''\n",
    "    INPUT:\n",
    "    user_id - (int)\n",
    "    df - (pandas dataframe) df as defined at the top of the notebook\n",
    "    user_item - (pandas dataframe) matrix of users by articles:\n",
    "            1's when a user has interacted with an article, 0 otherwise\n",
    "\n",
    "\n",
    "    OUTPUT:\n",
    "    neighbors_df - (pandas dataframe) a dataframe with:\n",
    "                    neighbor_id - is a neighbor user_id\n",
    "                    similarity - measure of the similarity of each user to the provided user_id\n",
    "                    num_interactions - the number of articles viewed by the user - if a u\n",
    "\n",
    "    Other Details - sort the neighbors_df by the similarity and then by number of interactions where\n",
    "                    highest of each is higher in the dataframe\n",
    "\n",
    "    '''\n",
    "    # Your code here\n",
    "\n",
    "    nei_ids = list(user_item.index)\n",
    "    nei_sims = [np.dot(user_item.loc[user_id], user_item.loc[nei_id]) for nei_id in nei_ids]\n",
    "    nei_views = [np.sum(user_item.loc[nei_id]) for nei_id in nei_ids]\n",
    "\n",
    "    neighbors_df = pd.DataFrame.from_dict({\n",
    "        'nei_id': nei_ids,\n",
    "        'nei_sim': nei_sims,\n",
    "        'nei_view': nei_views\n",
    "\n",
    "    })\n",
    "\n",
    "    neighbors_df.sort_values(by=['nei_sim', 'nei_view'], ascending=[False, False], inplace=True)\n",
    "\n",
    "    neighbors_df.drop(neighbors_df[neighbors_df['nei_id'] == user_id].index, axis=0, inplace=True)\n",
    "\n",
    "    return neighbors_df # Return the dataframe specified in the doc_string\n",
    "\n",
    "\n",
    "def user_user_recs_part2(user_id, m=10):\n",
    "    '''\n",
    "    INPUT:\n",
    "    user_id - (int) a user id\n",
    "    m - (int) the number of recommendations you want for the user\n",
    "\n",
    "    OUTPUT:\n",
    "    recs - (list) a list of recommendations for the user by article id\n",
    "    rec_names - (list) a list of recommendations for the user by article title\n",
    "\n",
    "    Description:\n",
    "    Loops through the users based on closeness to the input user_id\n",
    "    For each user - finds articles the user hasn't seen before and provides them as recs\n",
    "    Does this until m recommendations are found\n",
    "\n",
    "    Notes:\n",
    "    * Choose the users that have the most total article interactions\n",
    "    before choosing those with fewer article interactions.\n",
    "\n",
    "    * Choose articles with the articles with the most total interactions\n",
    "    before choosing those with fewer total interactions.\n",
    "\n",
    "    '''\n",
    "    # Your code here\n",
    "\n",
    "    nei_df = get_top_sorted_users(user_id, df=df ,user_item=user_item)\n",
    "\n",
    "    count_recs = 0\n",
    "    recs, rec_names = [], []\n",
    "\n",
    "\n",
    "    for nei_id in nei_df['nei_id'].values:\n",
    "\n",
    "        sim_article_ids, sim_article_names = get_user_articles(nei_id, user_item=user_item)\n",
    "        for _art_id, _art_name in zip(sim_article_ids, sim_article_names):\n",
    "            if user_item.loc[user_id, _art_id] == 0.0:\n",
    "                count_recs += 1\n",
    "                recs.append(_art_id)\n",
    "                rec_names.append(_art_name)\n",
    "\n",
    "                if count_recs >= m:\n",
    "                    return recs, rec_names\n",
    "\n",
    "    return recs, rec_names"
   ],
   "metadata": {
    "collapsed": false,
    "pycharm": {
     "name": "#%%\n"
    }
   }
  },
  {
   "cell_type": "code",
   "execution_count": null,
   "outputs": [],
   "source": [
    "# Quick spot check - don't change this code - just use it to test your functions\n",
    "rec_ids, rec_names = user_user_recs_part2(20, 10)\n",
    "print(\"The top 10 recommendations for user 20 are the following article ids:\")\n",
    "print(rec_ids)\n",
    "print()\n",
    "print(\"The top 10 recommendations for user 20 are the following article names:\")\n",
    "print(rec_names)"
   ],
   "metadata": {
    "collapsed": false,
    "pycharm": {
     "name": "#%%\n"
    }
   }
  },
  {
   "cell_type": "markdown",
   "source": [
    "`5.` Use your functions from above to correctly fill in the solutions to the dictionary below.  Then test your dictionary against the solution.  Provide the code you need to answer each following the comments below.\n"
   ],
   "metadata": {
    "collapsed": false,
    "pycharm": {
     "name": "#%% md\n"
    }
   }
  },
  {
   "cell_type": "code",
   "execution_count": null,
   "outputs": [],
   "source": [
    "### Tests with a dictionary of results\n",
    "\n",
    "user1_most_sim = get_top_sorted_users(1, df=df,user_item=user_item)['nei_id'].values[0]# Find the user that is most similar to user 1\n",
    "user131_10th_sim = get_top_sorted_users(131, df=df,user_item=user_item)['nei_id'].values[10] # Find the 10th most similar user to user 131\n",
    "\n",
    "## Dictionary Test Here\n",
    "sol_5_dict = {\n",
    "    'The user that is most similar to user 1.': user1_most_sim,\n",
    "    'The user that is the 10th most similar to user 131': user131_10th_sim,\n",
    "}\n",
    "\n",
    "t.sol_5_test(sol_5_dict)"
   ],
   "metadata": {
    "collapsed": false,
    "pycharm": {
     "name": "#%%\n"
    }
   }
  },
  {
   "cell_type": "markdown",
   "source": [
    "`6.` If we were given a new user, which of the above functions would you be able to use to make recommendations?  Explain.  Can you think of a better way we might make recommendations?  Use the cell below to explain a better method for new users.\n",
    "\n",
    "Both of the above functions cannot be used to make recommendations because the new user cannot has any information of viewed data.,\n",
    "so that we cannot find the similarity of the new user to the old users.\n",
    "\n",
    "```\n",
    "user_user_recs_part2(0.0, 10)\n",
    "```"
   ],
   "metadata": {
    "collapsed": false,
    "pycharm": {
     "name": "#%% md\n"
    }
   }
  },
  {
   "cell_type": "markdown",
   "source": [
    "`7.` Using your existing functions, provide the top 10 recommended articles you would provide for the a new user below.  You can test your function against our thoughts to make sure we are all on the same page with how we might make a recommendation.\n"
   ],
   "metadata": {
    "collapsed": false,
    "pycharm": {
     "name": "#%% md\n"
    }
   }
  },
  {
   "cell_type": "code",
   "execution_count": null,
   "outputs": [],
   "source": [
    "new_user = '0.0'\n",
    "\n",
    "# What would your recommendations be for this new user '0.0'?  As a new user, they have no observed articles.\n",
    "# Provide a list of the top 10 article ids you would give to\n",
    "new_user_recs = get_top_article_ids(10, df)# Your recommendations here\n",
    "\n",
    "assert set(new_user_recs) == set(['1314.0','1429.0','1293.0','1427.0','1162.0','1364.0','1304.0','1170.0','1431.0','1330.0']), \"Oops!  It makes sense that in this case we would want to recommend the most popular articles, because we don't know anything about these users.\"\n",
    "\n",
    "print(\"That's right!  Nice job!\")"
   ],
   "metadata": {
    "collapsed": false,
    "pycharm": {
     "name": "#%%\n"
    }
   }
  },
  {
   "cell_type": "markdown",
   "source": [
    "### <a class=\"anchor\" id=\"Content-Recs\">Part IV: Content Based Recommendations (EXTRA - NOT REQUIRED)</a>\n",
    "\n",
    "Another method we might use to make recommendations is to perform a ranking of the highest ranked articles associated with some term.  You might consider content to be the **doc_body**, **doc_description**, or **doc_full_name**.  There isn't one way to create a content based recommendation, especially considering that each of these columns hold content related information.\n",
    "\n",
    "`1.` Use the function body below to create a content based recommender.  Since there isn't one right answer for this recommendation tactic, no test functions are provided.  Feel free to change the function inputs if you decide you want to try a method that requires more input values.  The input values are currently set with one idea in mind that you may use to make content based recommendations.  One additional idea is that you might want to choose the most popular recommendations that meet your 'content criteria', but again, there is a lot of flexibility in how you might make these recommendations.\n",
    "\n",
    "### This part is NOT REQUIRED to pass this project.  However, you may choose to take this on as an extra way to show off your skills.\n",
    "\n",
    "\n"
   ],
   "metadata": {
    "collapsed": false,
    "pycharm": {
     "name": "#%% md\n"
    }
   }
  },
  {
   "cell_type": "code",
   "execution_count": null,
   "outputs": [],
   "source": [],
   "metadata": {
    "collapsed": false,
    "pycharm": {
     "name": "#%%\n"
    }
   }
  },
  {
   "cell_type": "markdown",
   "source": [
    "`2.` Now that you have put together your content-based recommendation system, use the cell below to write a summary explaining how your content based recommender works.  Do you see any possible improvements that could be made to your function?  Is there anything novel about your content based recommender?\n",
    "\n",
    "### This part is NOT REQUIRED to pass this project.  However, you may choose to take this on as an extra way to show off your skills.\n"
   ],
   "metadata": {
    "collapsed": false,
    "pycharm": {
     "name": "#%% md\n"
    }
   }
  },
  {
   "cell_type": "markdown",
   "source": [
    "`3.` Use your content-recommendation system to make recommendations for the below scenarios based on the comments.  Again no tests are provided here, because there isn't one right answer that could be used to find these content based recommendations.\n",
    "\n",
    "### This part is NOT REQUIRED to pass this project.  However, you may choose to take this on as an extra way to show off your skills.\n",
    "\n"
   ],
   "metadata": {
    "collapsed": false,
    "pycharm": {
     "name": "#%% md\n"
    }
   }
  },
  {
   "cell_type": "code",
   "execution_count": null,
   "outputs": [],
   "source": [
    "\n",
    "\n",
    "# from sklearn.feature_extraction.text import TfidfVectorizer\n",
    "#\n",
    "#\n",
    "# class TextFeatureExtraction(object):\n",
    "#     def __init__(self, vocab_size = 10000):\n",
    "#         self.vectorizer = TfidfVectorizer(stop_words=\"english\", max_features=vocab_size)\n",
    "#\n",
    "#     def fit(self, corpus):\n",
    "#         self.vectorizer.fit(corpus)\n",
    "#\n",
    "#     def transform(self, X):\n",
    "#         return self.vectorizer.transform(X).toarray()\n",
    "#\n",
    "#\n",
    "# feature_extraction = TextFeatureExtraction(vocab_size = 10000)\n",
    "# feature_extraction.fit(df_content['doc_full_name'].values)\n",
    "#\n",
    "# X = feature_extraction.transform(df_content['doc_full_name'].values)\n",
    "#\n",
    "#"
   ],
   "metadata": {
    "collapsed": false,
    "pycharm": {
     "name": "#%%\n"
    }
   }
  },
  {
   "cell_type": "code",
   "execution_count": null,
   "outputs": [],
   "source": [
    "# class SimCalculator(object):\n",
    "#     def __init__(self, X):\n",
    "#         self.X = X\n",
    "#         self._cal()\n",
    "#\n",
    "#     def _cal(self):\n",
    "#         self.sim_X = np.dot(self.X, self.X.T)\n",
    "#\n",
    "#     def get_sim(self, i):\n",
    "#         return self.sim_X[i,:]\n",
    "#\n",
    "#     def get_sim_ordered_dict(self, i):\n",
    "#         _rank = {j: self.sim_X[i,j] for j in range(self.sim_X.shape[1]) if j != i}\n",
    "#         _rank = dict(sorted(_rank.items(), key = lambda item: item[1], reverse=True))\n",
    "#         return _rank\n",
    "#\n",
    "#\n",
    "# # def get_article(i, df_content=df_content):\n",
    "# #     return df_content.iloc[i]\n",
    "#\n",
    "# def get_article_by_id(article_id, df_content=df_content):\n",
    "#     return df_content[df_content['article_id'] == article_id]\n",
    "#\n",
    "#\n",
    "# def get_article_index(article_id, df_content=df_content):\n",
    "#     article = get_article_by_id(article_id, df_content)\n",
    "#     return article.index\n",
    "#\n",
    "# def get_article_id_from_index(i, df_content=df_content):\n",
    "#     return df_content.iloc[i]['article_id']\n",
    "#\n",
    "# def get_viewed_article_id(user_id, df=df):\n",
    "#     return df[df['user_id'] == user_id]['article_id'].unique()\n",
    "#\n",
    "#\n",
    "# get_viewed_article_id(2)"
   ],
   "metadata": {
    "collapsed": false,
    "pycharm": {
     "name": "#%%\n"
    }
   }
  },
  {
   "cell_type": "code",
   "execution_count": null,
   "outputs": [],
   "source": [
    "\n",
    "# from collections import defaultdict\n",
    "#\n",
    "# import progressbar\n",
    "#\n",
    "#\n",
    "# df_content['article_id'] = df_content['article_id'].astype(float).astype(str)\n",
    "#\n",
    "# def make_content_recs(m=1):\n",
    "#     '''\n",
    "#     INPUT:\n",
    "#         None\n",
    "#     OUTPUT:\n",
    "#         recs - a dictionary with keys of the user and values of the recommendations\n",
    "#     '''\n",
    "#\n",
    "#     sim_calculator = SimCalculator(X)\n",
    "#     # sim_calculator.get_sim_ordered_dict(2)\n",
    "#\n",
    "#     # Create dictionary to return with users and ratings\n",
    "#     recs = defaultdict(set)\n",
    "#     # How many users for progress bar\n",
    "#     user_ids = df['user_id'].unique()\n",
    "#     n_users = len(user_ids)\n",
    "#\n",
    "#     # Create the progressbar\n",
    "#     cnter = 0\n",
    "#     bar = progressbar.ProgressBar(maxval=n_users+1, widgets=[progressbar.Bar('=', '[', ']'), ' ', progressbar.Percentage()])\n",
    "#     bar.start()\n",
    "#\n",
    "#     # For each user\n",
    "#     for user_id in user_ids:\n",
    "#         # Update the progress bar\n",
    "#         cnter+=1\n",
    "#         bar.update(cnter)\n",
    "#\n",
    "#         # Get viewed_article_id\n",
    "#         viewed_article_ids = get_viewed_article_id(user_id, df=df)\n",
    "#\n",
    "#         # Find similar articles\n",
    "#\n",
    "#         for viewed_article_id in viewed_article_ids:\n",
    "#             viewed_article_index = get_article_index(viewed_article_id, df_content=df_content)\n",
    "#             sim_article_indices = sim_calculator.get_sim_ordered_dict(viewed_article_index).keys()\n",
    "#             sim_article_ids = [get_article_id_from_index(sim_id, df_content=df_content) for sim_id in sim_article_indices]\n",
    "#\n",
    "#             temp_recs = np.setdiff1d(sim_article_ids, viewed_article_ids)\n",
    "#             recs[user_id].update(temp_recs)\n",
    "#\n",
    "#             if len(recs) > m-1:\n",
    "#                 break\n",
    "#\n",
    "#     bar.finish()\n",
    "#     return recs\n",
    "#\n",
    "# recs = make_content_recs(m=1)"
   ],
   "metadata": {
    "collapsed": false,
    "pycharm": {
     "name": "#%%\n"
    }
   }
  },
  {
   "cell_type": "code",
   "execution_count": null,
   "outputs": [],
   "source": [
    "\n"
   ],
   "metadata": {
    "collapsed": false,
    "pycharm": {
     "name": "#%%\n"
    }
   }
  },
  {
   "cell_type": "code",
   "execution_count": null,
   "outputs": [],
   "source": [
    "# make recommendations for a brand new user\n",
    "def recommendations_for_new_user(m=10):\n",
    "    return get_top_articles(m)\n",
    "\n",
    "\n",
    "# make a recommendations for a user who only has interacted with article id '1427.0'\n",
    "def recommendations_for_similar(article_id, rec):\n",
    "    pass"
   ],
   "metadata": {
    "collapsed": false,
    "pycharm": {
     "name": "#%%\n"
    }
   }
  },
  {
   "cell_type": "markdown",
   "source": [
    "### <a class=\"anchor\" id=\"Matrix-Fact\">Part V: Matrix Factorization</a>\n",
    "\n",
    "In this part of the notebook, you will build use matrix factorization to make article recommendations to the users on the IBM Watson Studio platform.\n",
    "\n",
    "`1.` You should have already created a **user_item** matrix above in **question 1** of **Part III** above.  This first question here will just require that you run the cells to get things set up for the rest of **Part V** of the notebook."
   ],
   "metadata": {
    "collapsed": false,
    "pycharm": {
     "name": "#%% md\n"
    }
   }
  },
  {
   "cell_type": "code",
   "execution_count": null,
   "outputs": [],
   "source": [
    "# Load the matrix here\n",
    "user_item_matrix = pd.read_pickle('user_item_matrix.p')"
   ],
   "metadata": {
    "collapsed": false,
    "pycharm": {
     "name": "#%%\n"
    }
   }
  },
  {
   "cell_type": "code",
   "execution_count": null,
   "outputs": [],
   "source": [
    "# quick look at the matrix\n",
    "user_item_matrix.head()"
   ],
   "metadata": {
    "collapsed": false,
    "pycharm": {
     "name": "#%%\n"
    }
   }
  },
  {
   "cell_type": "markdown",
   "source": [
    "`2.` In this situation, you can use Singular Value Decomposition from [numpy](https://docs.scipy.org/doc/numpy-1.14.0/reference/generated/numpy.linalg.svd.html) on the user-item matrix.  Use the cell to perform SVD, and explain why this is different than in the lesson.\n"
   ],
   "metadata": {
    "collapsed": false,
    "pycharm": {
     "name": "#%% md\n"
    }
   }
  },
  {
   "cell_type": "code",
   "execution_count": null,
   "outputs": [],
   "source": [
    "# Perform SVD on the User-Item Matrix Here\n",
    "\n",
    "u, s, vt = np.linalg.svd(user_item_matrix)# use the built in to get the three matrices\n",
    "\n",
    "u.shape, s.shape, vt.shape"
   ],
   "metadata": {
    "collapsed": false,
    "pycharm": {
     "name": "#%%\n"
    }
   }
  },
  {
   "cell_type": "code",
   "execution_count": null,
   "outputs": [],
   "source": [
    "print(f'The number of missing value in user_item_matrix is: {user_item_matrix.isnull().sum().sum()}')"
   ],
   "metadata": {
    "collapsed": false,
    "pycharm": {
     "name": "#%%\n"
    }
   }
  },
  {
   "cell_type": "markdown",
   "source": [
    "**Provide your response here.**\n",
    "We can apply SVD because the number of missing values in user_item_matrix is 0.\n",
    "In this case, there are clear that the user can have 2 states: 0 for not view, and 1 for viewing.\n",
    "In the case the number of missing values in user_item_matrix is greater than 5%, we can use FunkSVD.\n",
    "\n",
    "- The shape of u matrix (how users related with the latent factor). This is a square matrix\n",
    "- The s is a diagonal line representing each latent factor. This array will be transformed into the sigma matrix\n",
    "- The shape of vt matrix (how articles related to the later factors). This is a square matrix also"
   ],
   "metadata": {
    "collapsed": false,
    "pycharm": {
     "name": "#%% md\n"
    }
   }
  },
  {
   "cell_type": "markdown",
   "source": [
    "\n",
    "`3.` Now for the tricky part, how do we choose the number of latent features to use?  Running the below cell, you can see that as the number of latent features increases, we obtain a lower error rate on making predictions for the 1 and 0 values in the user-item matrix.  Run the cell below to get an idea of how the accuracy improves as we increase the number of latent features.\n"
   ],
   "metadata": {
    "collapsed": false,
    "pycharm": {
     "name": "#%% md\n"
    }
   }
  },
  {
   "cell_type": "code",
   "execution_count": null,
   "outputs": [],
   "source": [
    "num_latent_feats = np.arange(10,700+10,20)\n",
    "sum_errs = []\n",
    "\n",
    "for k in num_latent_feats:\n",
    "    # restructure with k latent features\n",
    "    s_new, u_new, vt_new = np.diag(s[:k]), u[:, :k], vt[:k, :]\n",
    "\n",
    "    # take dot product\n",
    "    user_item_est = np.around(np.dot(np.dot(u_new, s_new), vt_new))\n",
    "\n",
    "    # compute error for each prediction to actual value\n",
    "    diffs = np.subtract(user_item_matrix, user_item_est)\n",
    "\n",
    "    # total errors and keep track of them\n",
    "    err = np.sum(np.sum(np.abs(diffs)))\n",
    "    sum_errs.append(err)\n",
    "\n",
    "\n",
    "plt.plot(num_latent_feats, 1 - np.array(sum_errs)/df.shape[0])\n",
    "plt.xlabel('Number of Latent Features')\n",
    "plt.ylabel('Accuracy')\n",
    "plt.title('Accuracy vs. Number of Latent Features')"
   ],
   "metadata": {
    "collapsed": false,
    "pycharm": {
     "name": "#%%\n"
    }
   }
  },
  {
   "cell_type": "markdown",
   "source": [
    "`4.` From the above, we can't really be sure how many features to use, because simply having a better way to predict the 1's and 0's of the matrix doesn't exactly give us an indication of if we are able to make good recommendations.  Instead, we might split our dataset into a training and test set of data, as shown in the cell below.\n",
    "\n",
    "Use the code from question 3 to understand the impact on accuracy of the training and test sets of data with different numbers of latent features. Using the split below:\n",
    "\n",
    "* How many users can we make predictions for in the test set?\n",
    "* How many users are we not able to make predictions for because of the cold start problem?\n",
    "* How many articles can we make predictions for in the test set?\n",
    "* How many articles are we not able to make predictions for because of the cold start problem?"
   ],
   "metadata": {
    "collapsed": false,
    "pycharm": {
     "name": "#%% md\n"
    }
   }
  },
  {
   "cell_type": "code",
   "execution_count": null,
   "outputs": [],
   "source": [
    "df_train = df.head(40000)\n",
    "df_test = df.tail(5993)\n",
    "\n",
    "# df_train = df.head(30000)\n",
    "# df_test = df.tail(15993)\n",
    "\n",
    "def create_test_and_train_user_item(df_train, df_test):\n",
    "    '''\n",
    "    INPUT:\n",
    "    df_train - training dataframe\n",
    "    df_test - test dataframe\n",
    "\n",
    "    OUTPUT:\n",
    "    user_item_train - a user-item matrix of the training dataframe\n",
    "                      (unique users for each row and unique articles for each column)\n",
    "    user_item_test - a user-item matrix of the testing dataframe\n",
    "                    (unique users for each row and unique articles for each column)\n",
    "    test_idx - all of the test user ids\n",
    "    test_arts - all of the test article ids\n",
    "\n",
    "    '''\n",
    "    # Your code here\n",
    "    user_item_train = user_item_matrix.loc[df_train['user_id'].unique()]\n",
    "    user_item_test = user_item_matrix.loc[df_test['user_id'].unique()]\n",
    "    test_idx = df_test['user_id'].unique()\n",
    "    test_arts = df_test['article_id'].unique()\n",
    "\n",
    "    return user_item_train, user_item_test, test_idx, test_arts\n",
    "\n",
    "user_item_train, user_item_test, test_idx, test_arts = create_test_and_train_user_item(df_train, df_test)"
   ],
   "metadata": {
    "collapsed": false,
    "pycharm": {
     "name": "#%%\n"
    }
   }
  },
  {
   "cell_type": "code",
   "execution_count": null,
   "outputs": [],
   "source": [
    "# How many users can we make predictions for in the test set?\n",
    "# len(set(user_item_train.index) & set(user_item_test.index))\n",
    "users_can_make_predictions = len(set(df_train['user_id'].unique()) & set(df_test['user_id'].unique()))\n",
    "\n",
    "\n",
    "# How many users in the test set are we not able to make predictions for because of the cold start problem?\n",
    "users_cold_start_problem = len(set(df_test['user_id'].unique()) - set(df_train['user_id'].unique()))\n",
    "\n",
    "# How many articles can we make predictions for in the test set?\n",
    "article_can_make_predictions = len(set(df_train['article_id'].unique()) & set(df_test['article_id'].unique()))\n",
    "\n",
    "# How many articles in the test set are we not able to make predictions for because of the cold start problem?\n",
    "article_cold_start_problem = len(set(df_test['article_id'].unique()) - set(df_train['article_id'].unique()))\n",
    "# print(article_cold_start_problem)\n"
   ],
   "metadata": {
    "collapsed": false,
    "pycharm": {
     "name": "#%%\n"
    }
   }
  },
  {
   "cell_type": "code",
   "execution_count": null,
   "outputs": [],
   "source": [
    "# Replace the values in the dictionary below\n",
    "a = 662\n",
    "b = 574\n",
    "c = 20\n",
    "d = 0\n",
    "\n",
    "\n",
    "sol_4_dict = {\n",
    "    'How many users can we make predictions for in the test set?': c, # letter here,\n",
    "    'How many users in the test set are we not able to make predictions for because of the cold start problem?': a, # letter here,\n",
    "    'How many movies can we make predictions for in the test set?': b, # letter here,\n",
    "    'How many movies in the test set are we not able to make predictions for because of the cold start problem?': d # letter here\n",
    "}\n",
    "\n",
    "# print(sol_4_dict)\n",
    "# t.sol_4_test(sol_4_dict)\n",
    "\n",
    "sol_4_dict_1 = {\n",
    "'How many users can we make predictions for in the test set?': c,\n",
    "'How many users in the test set are we not able to make predictions for because of the cold start problem?': a,\n",
    "'How many movies can we make predictions for in the test set?': b,\n",
    "'How many movies in the test set are we not able to make predictions for because of the cold start problem?': d\n",
    "}\n"
   ],
   "metadata": {
    "collapsed": false,
    "pycharm": {
     "name": "#%%\n"
    }
   }
  },
  {
   "cell_type": "markdown",
   "source": [
    "`5.` Now use the **user_item_train** dataset from above to find U, S, and V transpose using SVD. Then find the subset of rows in the **user_item_test** dataset that you can predict using this matrix decomposition with different numbers of latent features to see how many features makes sense to keep based on the accuracy on the test data. This will require combining what was done in questions `2` - `4`.\n",
    "\n",
    "Use the cells below to explore how well SVD works towards making predictions for recommendations on the test data.\n"
   ],
   "metadata": {
    "collapsed": false,
    "pycharm": {
     "name": "#%% md\n"
    }
   }
  },
  {
   "cell_type": "code",
   "execution_count": null,
   "outputs": [],
   "source": [
    "# fit SVD on the user_item_train matrix\n",
    "u_train, s_train, vt_train = np.linalg.svd(user_item_train) # fit svd similar to above then use the cells below\n",
    "\n"
   ],
   "metadata": {
    "collapsed": false,
    "pycharm": {
     "name": "#%%\n"
    }
   }
  },
  {
   "cell_type": "code",
   "execution_count": null,
   "outputs": [],
   "source": [],
   "metadata": {
    "collapsed": false,
    "pycharm": {
     "name": "#%%\n"
    }
   }
  },
  {
   "cell_type": "code",
   "execution_count": 113,
   "outputs": [],
   "source": [
    "\n",
    "def find_common_users(user_item_train, user_ids):\n",
    "    # return list(set(user_item_train.index) & set(user_ids))\n",
    "    # Keep order of users by user_item_train (because we will need to get u_train by index of user in user_item_train\n",
    "    return [user for user in user_item_train.index if user in user_ids]\n",
    "\n",
    "\n",
    "def find_common_articles(user_item_train, article_ids):\n",
    "    # return list(set(user_item_train.columns) & set(article_ids))\n",
    "    # Keep order of articles by user_item_train column (because we will need to get vt_train by index of column in user_item_train\n",
    "    return [article_id for article_id in user_item_train.columns if article_id in article_ids]\n",
    "\n",
    "def find_user_indices(user_ids, user_item_matrix=user_item_matrix):\n",
    "    return [user_item_matrix.index.get_loc(user_id) for user_id in user_ids]\n",
    "\n",
    "def find_article_indices(article_ids, user_item_matrix=user_item_matrix):\n",
    "    article_columns = list(user_item_matrix.columns)\n",
    "    return [article_columns.index(article_id) for article_id in article_ids]\n",
    "\n",
    "\n",
    "def compute_predict(user_item_train, test_user_ids, test_article_ids, u_train, s_train, vt_train, k_features = 100):\n",
    "    # Initialize predictions by random 0, 1 values\n",
    "    df_predict = pd.DataFrame(\n",
    "                            # np.random.randint(2, size=(len(test_user_ids), len(test_article_ids))),\n",
    "                              np.zeros((len(test_user_ids), len(test_article_ids))),\n",
    "                              index = test_user_ids,\n",
    "                              columns = test_article_ids\n",
    "                              )\n",
    "\n",
    "    common_user_ids = find_common_users(user_item_train, test_user_ids)\n",
    "    common_article_ids = find_common_articles(user_item_train, test_article_ids)\n",
    "\n",
    "    u_pred_indices = find_user_indices(common_user_ids, user_item_matrix=user_item_train)\n",
    "    u_test = u_train[u_pred_indices, :k_features]\n",
    "\n",
    "    s_test = np.zeros((k_features, k_features))\n",
    "    s_test[:k_features, :k_features] = np.diag(s_train[:k_features])\n",
    "\n",
    "    vt_pred_indices = find_article_indices(common_article_ids, user_item_matrix=user_item_train)\n",
    "    vt_test = vt_train[:k_features, vt_pred_indices]\n",
    "\n",
    "    predict_matrix =  np.around((u_test @ s_test) @ vt_test)\n",
    "\n",
    "    df_predict.loc[common_user_ids, common_article_ids] = predict_matrix\n",
    "\n",
    "    return df_predict\n",
    "\n",
    "\n",
    "\n",
    "def compute_error(predict_matrix, user_item_test):\n",
    "    assert predict_matrix.shape == user_item_test.shape, \"The shape would be the same\"\n",
    "\n",
    "     # compute error for each prediction to actual value\n",
    "    diffs = np.subtract(predict_matrix, user_item_test)\n",
    "\n",
    "    # total errors and keep track of them\n",
    "    err = np.sum(np.sum(np.abs(diffs)))\n",
    "\n",
    "    return err\n",
    "\n",
    "\n",
    "import operator\n",
    "def find_latent_features(k_features_init = 100):\n",
    "    latent_features = []\n",
    "\n",
    "    train_errors, predict_errors, total_errors = [], [], []\n",
    "\n",
    "\n",
    "    test_user_ids, test_article_ids = list(df_test['user_id'].unique()), list(df_test['article_id'].unique())\n",
    "    train_user_ids, train_article_ids = list(df_train['user_id'].unique()), list(df_train['article_id'].unique())\n",
    "\n",
    "    total_user_ids, total_article_ids = list(df['user_id'].unique()), list(df['article_id'].unique())\n",
    "\n",
    "    for k_features in range(k_features_init, 700, 20):\n",
    "        df_train_matrix = compute_predict(user_item_train, train_user_ids, train_article_ids, u_train, s_train, vt_train, k_features = k_features)\n",
    "\n",
    "        df_predict_matrix = compute_predict(user_item_train, test_user_ids, test_article_ids, u_train, s_train, vt_train, k_features = k_features)\n",
    "\n",
    "        df_total_matrix = compute_predict(user_item_train, total_user_ids, total_article_ids, u_train, s_train, vt_train, k_features = k_features)\n",
    "\n",
    "\n",
    "        train_error = compute_error(np.array(df_train_matrix), np.array(user_item_train.loc[train_user_ids, train_article_ids]))/df_train.shape[0]\n",
    "\n",
    "        predict_error = compute_error(np.array(df_predict_matrix), np.array(user_item_test.loc[test_user_ids, test_article_ids]))/df_test.shape[0]\n",
    "\n",
    "        total_error = compute_error(np.array(df_total_matrix), np.array(user_item_matrix.loc[total_user_ids, total_article_ids]))/df.shape[0]\n",
    "\n",
    "\n",
    "\n",
    "\n",
    "        print(f'Training error: {train_error}. Predict error: {predict_error}. Total error: {total_error}')\n",
    "        latent_features.append(k_features)\n",
    "        train_errors.append(train_error)\n",
    "        predict_errors.append(predict_error)\n",
    "        total_errors.append(total_error)\n",
    "\n",
    "    return latent_features, errors, train_errors, 1 - np.array(train_errors), 1 - np.array(predict_errors), 1- np.array(total_errors)\n"
   ],
   "metadata": {
    "collapsed": false,
    "pycharm": {
     "name": "#%%\n"
    }
   }
  },
  {
   "cell_type": "code",
   "execution_count": null,
   "outputs": [],
   "source": [
    "\n",
    "# k_user_ids, k_article_ids = list(df_test['user_id'].unique()), list(df_test['article_id'].unique())\n",
    "#\n",
    "# common_user_ids = find_common_users(user_item_train, k_user_ids)\n",
    "# common_article_ids = find_common_articles(user_item_train, k_article_ids)\n",
    "#\n",
    "#\n",
    "#\n",
    "# df_predict = pd.DataFrame(np.random.randint(2, size=(len(k_user_ids), len(k_article_ids))),\n",
    "#                           index = k_user_ids,\n",
    "#                           columns = k_article_ids\n",
    "#                           )\n",
    "#\n",
    "#\n",
    "#\n",
    "# print(f'Common users: {len(common_user_ids)}, common articles: {len(common_article_ids)}')\n",
    "#\n",
    "# k_predict_matrix = compute_predict(user_item_train, common_user_ids, common_article_ids, u_train, s_train, vt_train, k_features = 100)\n",
    "#\n",
    "#\n",
    "# print(k_predict_matrix.shape)\n",
    "#\n",
    "# df_predict.loc[common_user_ids, common_article_ids] = k_predict_matrix\n",
    "#\n",
    "# print(df_predict.loc[common_user_ids, common_article_ids])\n",
    "#\n",
    "# print(compute_error(df_predict.loc[common_user_ids, common_article_ids], user_item_train.loc[common_user_ids, common_article_ids]))\n",
    "\n",
    "\n"
   ],
   "metadata": {
    "collapsed": false,
    "pycharm": {
     "name": "#%%\n"
    }
   }
  },
  {
   "cell_type": "code",
   "execution_count": 114,
   "outputs": [
    {
     "name": "stdout",
     "output_type": "stream",
     "text": [
      "Training error: 0.265125. Predict error: 0.7231770398798598. Total error: 0.3224838562389929\n",
      "Training error: 0.2212. Predict error: 0.7198398131153012. Total error: 0.2842823907985998\n",
      "Training error: 0.183825. Predict error: 0.7171700317036542. Total error: 0.2517774443937121\n",
      "Training error: 0.15415. Predict error: 0.7148339729684632. Total error: 0.22596916922140325\n",
      "Training error: 0.1315. Predict error: 0.7124979142332721. Total error: 0.2062705194268693\n",
      "Training error: 0.1088. Predict error: 0.7101618554980811. Total error: 0.18652838475420172\n",
      "Training error: 0.0907. Predict error: 0.7083263807775738. Total error: 0.17078685886982803\n",
      "Training error: 0.0756. Predict error: 0.70782579676289. Total error: 0.15765442567347204\n",
      "Training error: 0.062525. Predict error: 0.7074920740864342. Total error: 0.14628313004152807\n",
      "Training error: 0.05215. Predict error: 0.7068246287335225. Total error: 0.13726001782880004\n",
      "Training error: 0.043125. Predict error: 0.7064909060570665. Total error: 0.12941099732567998\n",
      "Training error: 0.036775. Predict error: 0.7064909060570665. Total error: 0.12388841780270911\n",
      "Training error: 0.03055. Predict error: 0.7063240447188387. Total error: 0.1184745504750723\n",
      "Training error: 0.026175. Predict error: 0.7061571833806107. Total error: 0.11466962363837975\n",
      "Training error: 0.0201. Predict error: 0.7059903220423828. Total error: 0.10938621094514382\n",
      "Training error: 0.015875. Predict error: 0.7058234607041548. Total error: 0.10571173874285217\n",
      "Training error: 0.01355. Predict error: 0.7058234607041548. Total error: 0.10368969190963842\n",
      "Training error: 0.01075. Predict error: 0.705656599365927. Total error: 0.1012545387341552\n",
      "Training error: 0.00845. Predict error: 0.705489738027699. Total error: 0.09925423434000827\n",
      "Training error: 0.006575. Predict error: 0.705322876689471. Total error: 0.09762355140999718\n",
      "Training error: 0.0051. Predict error: 0.705322876689471. Total error: 0.09634074750505511\n",
      "Training error: 0.00375. Predict error: 0.705322876689471. Total error: 0.09516665579544713\n",
      "Training error: 0.002375. Predict error: 0.705322876689471. Total error: 0.09397082164677234\n",
      "Training error: 0.00145. Predict error: 0.705322876689471. Total error: 0.0931663514013002\n",
      "Training error: 0.00105. Predict error: 0.705322876689471. Total error: 0.09281847237623117\n",
      "Training error: 0.000575. Predict error: 0.705322876689471. Total error: 0.09240536603396168\n",
      "Training error: 0.000475. Predict error: 0.705322876689471. Total error: 0.09231839627769443\n",
      "Training error: 0.000125. Predict error: 0.705322876689471. Total error: 0.09201400213075903\n",
      "Training error: 0.0. Predict error: 0.705322876689471. Total error: 0.09190528993542496\n",
      "Training error: 0.0. Predict error: 0.705322876689471. Total error: 0.09190528993542496\n"
     ]
    }
   ],
   "source": [
    "latent_features, errors, train_errors, acc_train, acc_test, acc_total = find_latent_features(k_features_init = 100)\n",
    "\n",
    "\n"
   ],
   "metadata": {
    "collapsed": false,
    "pycharm": {
     "name": "#%%\n"
    }
   }
  },
  {
   "cell_type": "code",
   "execution_count": 117,
   "outputs": [
    {
     "data": {
      "text/plain": "Text(0.5, 1.0, 'Accuracy vs. Number of Latent Features')"
     },
     "execution_count": 117,
     "metadata": {},
     "output_type": "execute_result"
    },
    {
     "data": {
      "text/plain": "<Figure size 432x288 with 1 Axes>",
      "image/png": "[encoded data removed]"
     },
     "metadata": {
      "needs_background": "light"
     },
     "output_type": "display_data"
    }
   ],
   "source": [
    "plt.plot(latent_features, acc_train, label=\"training accuracy\")\n",
    "plt.plot(latent_features, acc_test, label=\"test accuracy\")\n",
    "plt.plot(latent_features, acc_total, label=\"total accuracy\")\n",
    "\n",
    "plt.xlabel('Number of Latent Features')\n",
    "plt.ylabel('Accuracy')\n",
    "plt.title('Accuracy vs. Number of Latent Features')"
   ],
   "metadata": {
    "collapsed": false,
    "pycharm": {
     "name": "#%%\n"
    }
   }
  },
  {
   "cell_type": "markdown",
   "source": [
    "As the above chart shows, the accuracy of test accuracy is not significantly changed after 200-300 latent features.\n",
    "Because we have only 20 users in common of the training. We cannot predict for remained 662 users from test set.\n",
    "But for total accuracy the model can work will with 500 latent features.\n",
    "\n"
   ],
   "metadata": {
    "collapsed": false,
    "pycharm": {
     "name": "#%% md\n"
    }
   }
  }
 ],
 "metadata": {
  "kernelspec": {
   "display_name": "Python 3",
   "language": "python",
   "name": "python3"
  },
  "language_info": {
   "codemirror_mode": {
    "name": "ipython",
    "version": 2
   },
   "file_extension": ".py",
   "mimetype": "text/x-python",
   "name": "python",
   "nbconvert_exporter": "python",
   "pygments_lexer": "ipython2",
   "version": "2.7.6"
  }
 },
 "nbformat": 4,
 "nbformat_minor": 0
}